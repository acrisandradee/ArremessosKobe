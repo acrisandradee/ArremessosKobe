{
 "cells": [
  {
   "cell_type": "code",
   "execution_count": 1,
   "id": "b2f672d3",
   "metadata": {},
   "outputs": [
    {
     "name": "stdout",
     "output_type": "stream",
     "text": [
      "✅ Modelo logado com sucesso com artefatos!\n"
     ]
    },
    {
     "name": "stderr",
     "output_type": "stream",
     "text": [
      "Registered model 'ModeloArremessoKobe' already exists. Creating a new version of this model...\n",
      "Created version '2' of model 'ModeloArremessoKobe'.\n"
     ]
    }
   ],
   "source": [
    "import mlflow\n",
    "from mlflow.sklearn import log_model\n",
    "\n",
    "modelo_final = mlflow.sklearn.load_model(\"data/06_models/modelo_vencedor\")\n",
    "\n",
    "with mlflow.start_run(run_name=\"FixModeloComArtefato\"):\n",
    "    log_model(\n",
    "        sk_model=modelo_final,\n",
    "        artifact_path=\"modelo_vencedor\",\n",
    "        registered_model_name=\"ModeloArremessoKobe\"\n",
    "    )\n",
    "\n",
    "    print(\"✅ Modelo logado com sucesso com artefatos!\")\n"
   ]
  },
  {
   "cell_type": "code",
   "execution_count": 3,
   "id": "3e5fc341",
   "metadata": {},
   "outputs": [],
   "source": [
    "from mlflow import MlflowClient\n",
    "\n",
    "client = MlflowClient()\n",
    "client.set_registered_model_alias(\"ModeloArremessoKobe\", \"prod\", 2)  # Use o número da nova versão\n"
   ]
  },
  {
   "cell_type": "code",
   "execution_count": 4,
   "id": "b8aa73e8",
   "metadata": {},
   "outputs": [
    {
     "name": "stderr",
     "output_type": "stream",
     "text": [
      "Registered model 'ModeloArremessoKobe' already exists. Creating a new version of this model...\n",
      "Created version '3' of model 'ModeloArremessoKobe'.\n"
     ]
    },
    {
     "name": "stdout",
     "output_type": "stream",
     "text": [
      "✔️ Registrado: ModeloArremessoKobe v 3\n"
     ]
    }
   ],
   "source": [
    "import mlflow\n",
    "from mlflow import MlflowClient\n",
    "\n",
    "with mlflow.start_run(run_name=\"ReRegistroModelo\"):\n",
    "    model_uri = mlflow.get_artifact_uri(\"modelo_vencedor\")\n",
    "    result = mlflow.register_model(model_uri, \"ModeloArremessoKobe\")\n",
    "\n",
    "    print(\"✔️ Registrado:\", result.name, \"v\", result.version)\n",
    "\n",
    "    # Atribuir alias novamente\n",
    "    client = MlflowClient()\n",
    "    client.set_registered_model_alias(\"ModeloArremessoKobe\", \"prod\", result.version)\n"
   ]
  },
  {
   "cell_type": "code",
   "execution_count": 5,
   "id": "2f24af02",
   "metadata": {},
   "outputs": [
    {
     "name": "stdout",
     "output_type": "stream",
     "text": [
      "[INFO] Tracking URI: file:///C:/Users/Cristina/Documents/myproject/mlruns\n",
      "[✔️] Modelo carregado localmente com sucesso\n"
     ]
    },
    {
     "name": "stderr",
     "output_type": "stream",
     "text": [
      "Registered model 'ModeloArremessoKobe' already exists. Creating a new version of this model...\n",
      "Created version '6' of model 'ModeloArremessoKobe'.\n"
     ]
    },
    {
     "name": "stdout",
     "output_type": "stream",
     "text": [
      "\n",
      "✔️ Modelo logado com sucesso no run: 26fa6618a91c49e69347fd6c96e73a91\n",
      "📁 URI do artefato: file:///C:/Users/Cristina/Documents/myproject/mlruns/0/26fa6618a91c49e69347fd6c96e73a91/artifacts/modelo_vencedor\n",
      "[📍] Nova versao registrada: v7\n",
      "🏷️ Alias 'prod' aplicado na versao v7\n"
     ]
    },
    {
     "name": "stderr",
     "output_type": "stream",
     "text": [
      "Registered model 'ModeloArremessoKobe' already exists. Creating a new version of this model...\n",
      "Created version '7' of model 'ModeloArremessoKobe'.\n"
     ]
    },
    {
     "name": "stdout",
     "output_type": "stream",
     "text": [
      "\n",
      "✅ Modelo carregado com sucesso via @prod\n",
      "[INFO] Base de producao carregada e limpa: (6426, 7)\n",
      "[📎] Predicoes salvas em: ../data/07_model_output/predicoes_prod.parquet\n",
      "[📊] Avaliacao - F1: 0.0000 | LogLoss: 0.6392\n"
     ]
    }
   ],
   "source": [
    "# 📌 Aplicacao_Modelo_Prod.ipynb\n",
    "\n",
    "import mlflow\n",
    "import mlflow.sklearn\n",
    "from mlflow.sklearn import log_model\n",
    "from mlflow import MlflowClient\n",
    "from sklearn.metrics import f1_score, log_loss\n",
    "from pathlib import Path\n",
    "import pandas as pd\n",
    "\n",
    "# ✅ 1. Configurar o tracking URI\n",
    "mlflow.set_tracking_uri(\"file:///C:/Users/Cristina/Documents/myproject/mlruns\")\n",
    "print(\"[INFO] Tracking URI:\", mlflow.get_tracking_uri())\n",
    "\n",
    "# ✅ 2. Carregar modelo local salvo previamente via MLflow\n",
    "modelo_final = mlflow.sklearn.load_model(\"data/06_models/modelo_vencedor\")\n",
    "print(\"[✔️] Modelo carregado localmente com sucesso\")\n",
    "\n",
    "# ✅ 3. Logar modelo no MLflow com artefatos\n",
    "with mlflow.start_run(run_name=\"FixModeloComArtefato\"):\n",
    "    log_model(\n",
    "        sk_model=modelo_final,\n",
    "        artifact_path=\"modelo_vencedor\",\n",
    "        registered_model_name=\"ModeloArremessoKobe\"\n",
    "    )\n",
    "\n",
    "    model_uri = mlflow.get_artifact_uri(\"modelo_vencedor\")\n",
    "    run_id = mlflow.active_run().info.run_id\n",
    "\n",
    "    print(\"\\n✔️ Modelo logado com sucesso no run:\", run_id)\n",
    "    print(\"📁 URI do artefato:\", model_uri)\n",
    "\n",
    "# ✅ 4. Registrar e aplicar alias `prod`\n",
    "result = mlflow.register_model(model_uri, \"ModeloArremessoKobe\")\n",
    "print(f\"[📍] Nova versao registrada: v{result.version}\")\n",
    "\n",
    "client = MlflowClient()\n",
    "client.set_registered_model_alias(\"ModeloArremessoKobe\", \"prod\", result.version)\n",
    "print(f\"🏷️ Alias 'prod' aplicado na versao v{result.version}\")\n",
    "\n",
    "# ✅ 5. Carregar modelo via alias @prod\n",
    "modelo_prod = mlflow.sklearn.load_model(\"models:/ModeloArremessoKobe@prod\")\n",
    "print(\"\\n✅ Modelo carregado com sucesso via @prod\")\n",
    "\n",
    "# ✅ 6. Aplicar na base de producao\n",
    "input_path = \"../data/01_raw/dataset_kobe_prod.parquet\"\n",
    "df = pd.read_parquet(input_path)\n",
    "colunas = [\"lat\", \"lon\", \"minutes_remaining\", \"period\", \"playoffs\", \"shot_distance\"]\n",
    "df = df[colunas + ([\"shot_made_flag\"] if \"shot_made_flag\" in df.columns else [])]\n",
    "df = df.dropna(subset=colunas)\n",
    "print(f\"[INFO] Base de producao carregada e limpa: {df.shape}\")\n",
    "\n",
    "# 🔮 Fazer previsoes\n",
    "y_pred = modelo_prod.predict(df[colunas])\n",
    "y_proba = modelo_prod.predict_proba(df[colunas])[:, 1]\n",
    "df_resultado = df.copy()\n",
    "df_resultado[\"score\"] = y_proba\n",
    "df_resultado[\"shot_made_flag_predito\"] = y_pred\n",
    "\n",
    "# 📎 Salvar predicoes e logar como artefato\n",
    "output_path = \"../data/07_model_output/predicoes_prod.parquet\"\n",
    "Path(output_path).parent.mkdir(parents=True, exist_ok=True)\n",
    "df_resultado.to_parquet(output_path, index=False)\n",
    "mlflow.log_artifact(output_path)\n",
    "print(\"[📎] Predicoes salvas em:\", output_path)\n",
    "\n",
    "# 📊 Avaliar se a base de producao tem y_true\n",
    "if \"shot_made_flag\" in df.columns:\n",
    "    y_true = df[\"shot_made_flag\"].dropna()  # ✅ Remove NaNs para evitar erro\n",
    "    y_pred_filtered = y_pred[df[\"shot_made_flag\"].notna()]\n",
    "    y_proba_filtered = y_proba[df[\"shot_made_flag\"].notna()]\n",
    "\n",
    "    f1 = f1_score(y_true, y_pred_filtered)\n",
    "    loss = log_loss(y_true, y_proba_filtered)\n",
    "\n",
    "    mlflow.log_metric(\"f1_score_prod\", f1)\n",
    "    mlflow.log_metric(\"log_loss_prod\", loss)\n",
    "    print(f\"[📊] Avaliacao - F1: {f1:.4f} | LogLoss: {loss:.4f}\")\n",
    "else:\n",
    "    print(\"[⚠️] Variavel alvo ausente - metricas nao calculadas\")\n"
   ]
  }
 ],
 "metadata": {
  "kernelspec": {
   "display_name": ".venv",
   "language": "python",
   "name": "python3"
  },
  "language_info": {
   "codemirror_mode": {
    "name": "ipython",
    "version": 3
   },
   "file_extension": ".py",
   "mimetype": "text/x-python",
   "name": "python",
   "nbconvert_exporter": "python",
   "pygments_lexer": "ipython3",
   "version": "3.11.0"
  }
 },
 "nbformat": 4,
 "nbformat_minor": 5
}
