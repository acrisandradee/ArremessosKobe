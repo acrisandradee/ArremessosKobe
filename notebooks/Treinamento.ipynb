{
 "cells": [
  {
   "cell_type": "code",
   "execution_count": 1,
   "id": "1067214c",
   "metadata": {},
   "outputs": [
    {
     "data": {
      "text/html": [
       "<pre style=\"white-space:pre;overflow-x:auto;line-height:normal;font-family:Menlo,'DejaVu Sans Mono',consolas,'Courier New',monospace\"><span style=\"color: #7fbfbf; text-decoration-color: #7fbfbf\">[04/05/25 21:31:34] </span><span style=\"color: #000080; text-decoration-color: #000080\">INFO    </span> Using                                                                  <a href=\"file://c:\\Users\\Cristina\\Documents\\myproject\\.venv\\Lib\\site-packages\\kedro\\framework\\project\\__init__.py\" target=\"_blank\"><span style=\"color: #7f7f7f; text-decoration-color: #7f7f7f\">__init__.py</span></a><span style=\"color: #7f7f7f; text-decoration-color: #7f7f7f\">:</span><a href=\"file://c:\\Users\\Cristina\\Documents\\myproject\\.venv\\Lib\\site-packages\\kedro\\framework\\project\\__init__.py#270\" target=\"_blank\"><span style=\"color: #7f7f7f; text-decoration-color: #7f7f7f\">270</span></a>\n",
       "<span style=\"color: #7fbfbf; text-decoration-color: #7fbfbf\">                    </span>         <span style=\"color: #008000; text-decoration-color: #008000\">'c:\\Users\\Cristina\\Documents\\myproject\\.venv\\Lib\\site-packages\\kedro\\f</span> <span style=\"color: #7f7f7f; text-decoration-color: #7f7f7f\">               </span>\n",
       "<span style=\"color: #7fbfbf; text-decoration-color: #7fbfbf\">                    </span>         <span style=\"color: #008000; text-decoration-color: #008000\">ramework\\project\\rich_logging.yml'</span> as logging configuration.           <span style=\"color: #7f7f7f; text-decoration-color: #7f7f7f\">               </span>\n",
       "</pre>\n"
      ],
      "text/plain": [
       "\u001b[2;36m[04/05/25 21:31:34]\u001b[0m\u001b[2;36m \u001b[0m\u001b[34mINFO    \u001b[0m Using                                                                  \u001b]8;id=703518;file://c:\\Users\\Cristina\\Documents\\myproject\\.venv\\Lib\\site-packages\\kedro\\framework\\project\\__init__.py\u001b\\\u001b[2m__init__.py\u001b[0m\u001b]8;;\u001b\\\u001b[2m:\u001b[0m\u001b]8;id=896562;file://c:\\Users\\Cristina\\Documents\\myproject\\.venv\\Lib\\site-packages\\kedro\\framework\\project\\__init__.py#270\u001b\\\u001b[2m270\u001b[0m\u001b]8;;\u001b\\\n",
       "\u001b[2;36m                    \u001b[0m         \u001b[32m'c:\\Users\\Cristina\\Documents\\myproject\\.venv\\Lib\\site-packages\\kedro\\f\u001b[0m \u001b[2m               \u001b[0m\n",
       "\u001b[2;36m                    \u001b[0m         \u001b[32mramework\\project\\rich_logging.yml'\u001b[0m as logging configuration.           \u001b[2m               \u001b[0m\n"
      ]
     },
     "metadata": {},
     "output_type": "display_data"
    },
    {
     "data": {
      "text/html": [
       "<pre style=\"white-space:pre;overflow-x:auto;line-height:normal;font-family:Menlo,'DejaVu Sans Mono',consolas,'Courier New',monospace\"><span style=\"color: #7fbfbf; text-decoration-color: #7fbfbf\">                    </span><span style=\"color: #000080; text-decoration-color: #000080\">INFO    </span> Registered line magic <span style=\"color: #008000; text-decoration-color: #008000\">'%reload_kedro'</span>                                   <a href=\"file://c:\\Users\\Cristina\\Documents\\myproject\\.venv\\Lib\\site-packages\\kedro\\ipython\\__init__.py\" target=\"_blank\"><span style=\"color: #7f7f7f; text-decoration-color: #7f7f7f\">__init__.py</span></a><span style=\"color: #7f7f7f; text-decoration-color: #7f7f7f\">:</span><a href=\"file://c:\\Users\\Cristina\\Documents\\myproject\\.venv\\Lib\\site-packages\\kedro\\ipython\\__init__.py#63\" target=\"_blank\"><span style=\"color: #7f7f7f; text-decoration-color: #7f7f7f\">63</span></a>\n",
       "</pre>\n"
      ],
      "text/plain": [
       "\u001b[2;36m                   \u001b[0m\u001b[2;36m \u001b[0m\u001b[34mINFO    \u001b[0m Registered line magic \u001b[32m'%reload_kedro'\u001b[0m                                   \u001b]8;id=691847;file://c:\\Users\\Cristina\\Documents\\myproject\\.venv\\Lib\\site-packages\\kedro\\ipython\\__init__.py\u001b\\\u001b[2m__init__.py\u001b[0m\u001b]8;;\u001b\\\u001b[2m:\u001b[0m\u001b]8;id=243749;file://c:\\Users\\Cristina\\Documents\\myproject\\.venv\\Lib\\site-packages\\kedro\\ipython\\__init__.py#63\u001b\\\u001b[2m63\u001b[0m\u001b]8;;\u001b\\\n"
      ]
     },
     "metadata": {},
     "output_type": "display_data"
    },
    {
     "data": {
      "text/html": [
       "<pre style=\"white-space:pre;overflow-x:auto;line-height:normal;font-family:Menlo,'DejaVu Sans Mono',consolas,'Courier New',monospace\"><span style=\"color: #7fbfbf; text-decoration-color: #7fbfbf\">                    </span><span style=\"color: #000080; text-decoration-color: #000080\">INFO    </span> Registered line magic <span style=\"color: #008000; text-decoration-color: #008000\">'%load_node'</span>                                      <a href=\"file://c:\\Users\\Cristina\\Documents\\myproject\\.venv\\Lib\\site-packages\\kedro\\ipython\\__init__.py\" target=\"_blank\"><span style=\"color: #7f7f7f; text-decoration-color: #7f7f7f\">__init__.py</span></a><span style=\"color: #7f7f7f; text-decoration-color: #7f7f7f\">:</span><a href=\"file://c:\\Users\\Cristina\\Documents\\myproject\\.venv\\Lib\\site-packages\\kedro\\ipython\\__init__.py#65\" target=\"_blank\"><span style=\"color: #7f7f7f; text-decoration-color: #7f7f7f\">65</span></a>\n",
       "</pre>\n"
      ],
      "text/plain": [
       "\u001b[2;36m                   \u001b[0m\u001b[2;36m \u001b[0m\u001b[34mINFO    \u001b[0m Registered line magic \u001b[32m'%load_node'\u001b[0m                                      \u001b]8;id=798599;file://c:\\Users\\Cristina\\Documents\\myproject\\.venv\\Lib\\site-packages\\kedro\\ipython\\__init__.py\u001b\\\u001b[2m__init__.py\u001b[0m\u001b]8;;\u001b\\\u001b[2m:\u001b[0m\u001b]8;id=288197;file://c:\\Users\\Cristina\\Documents\\myproject\\.venv\\Lib\\site-packages\\kedro\\ipython\\__init__.py#65\u001b\\\u001b[2m65\u001b[0m\u001b]8;;\u001b\\\n"
      ]
     },
     "metadata": {},
     "output_type": "display_data"
    },
    {
     "data": {
      "text/html": [
       "<pre style=\"white-space:pre;overflow-x:auto;line-height:normal;font-family:Menlo,'DejaVu Sans Mono',consolas,'Courier New',monospace\"><span style=\"color: #7fbfbf; text-decoration-color: #7fbfbf\">                    </span><span style=\"color: #000080; text-decoration-color: #000080\">INFO    </span> Resolved project path as:                                              <a href=\"file://c:\\Users\\Cristina\\Documents\\myproject\\.venv\\Lib\\site-packages\\kedro\\ipython\\__init__.py\" target=\"_blank\"><span style=\"color: #7f7f7f; text-decoration-color: #7f7f7f\">__init__.py</span></a><span style=\"color: #7f7f7f; text-decoration-color: #7f7f7f\">:</span><a href=\"file://c:\\Users\\Cristina\\Documents\\myproject\\.venv\\Lib\\site-packages\\kedro\\ipython\\__init__.py#180\" target=\"_blank\"><span style=\"color: #7f7f7f; text-decoration-color: #7f7f7f\">180</span></a>\n",
       "<span style=\"color: #7fbfbf; text-decoration-color: #7fbfbf\">                    </span>         c:\\Users\\Cristina\\Documents\\myproject\\projetokobe.                     <span style=\"color: #7f7f7f; text-decoration-color: #7f7f7f\">               </span>\n",
       "<span style=\"color: #7fbfbf; text-decoration-color: #7fbfbf\">                    </span>         To set a different path, run <span style=\"color: #008000; text-decoration-color: #008000\">'%reload_kedro &lt;project_root&gt;'</span>            <span style=\"color: #7f7f7f; text-decoration-color: #7f7f7f\">               </span>\n",
       "</pre>\n"
      ],
      "text/plain": [
       "\u001b[2;36m                   \u001b[0m\u001b[2;36m \u001b[0m\u001b[34mINFO    \u001b[0m Resolved project path as:                                              \u001b]8;id=554585;file://c:\\Users\\Cristina\\Documents\\myproject\\.venv\\Lib\\site-packages\\kedro\\ipython\\__init__.py\u001b\\\u001b[2m__init__.py\u001b[0m\u001b]8;;\u001b\\\u001b[2m:\u001b[0m\u001b]8;id=352138;file://c:\\Users\\Cristina\\Documents\\myproject\\.venv\\Lib\\site-packages\\kedro\\ipython\\__init__.py#180\u001b\\\u001b[2m180\u001b[0m\u001b]8;;\u001b\\\n",
       "\u001b[2;36m                    \u001b[0m         c:\\Users\\Cristina\\Documents\\myproject\\projetokobe.                     \u001b[2m               \u001b[0m\n",
       "\u001b[2;36m                    \u001b[0m         To set a different path, run \u001b[32m'%reload_kedro \u001b[0m\u001b[32m<\u001b[0m\u001b[32mproject_root\u001b[0m\u001b[32m>\u001b[0m\u001b[32m'\u001b[0m            \u001b[2m               \u001b[0m\n"
      ]
     },
     "metadata": {},
     "output_type": "display_data"
    },
    {
     "data": {
      "text/html": [
       "<pre style=\"white-space:pre;overflow-x:auto;line-height:normal;font-family:Menlo,'DejaVu Sans Mono',consolas,'Courier New',monospace\"><span style=\"color: #7fbfbf; text-decoration-color: #7fbfbf\">[04/05/25 21:31:35] </span><span style=\"color: #808000; text-decoration-color: #808000\">WARNING </span> c:\\Users\\Cristina\\Documents\\myproject\\.venv\\Lib\\site-packages\\kedro\\io <a href=\"file://C:\\Users\\Cristina\\AppData\\Local\\Programs\\Python\\Python311\\Lib\\warnings.py\" target=\"_blank\"><span style=\"color: #7f7f7f; text-decoration-color: #7f7f7f\">warnings.py</span></a><span style=\"color: #7f7f7f; text-decoration-color: #7f7f7f\">:</span><a href=\"file://C:\\Users\\Cristina\\AppData\\Local\\Programs\\Python\\Python311\\Lib\\warnings.py#109\" target=\"_blank\"><span style=\"color: #7f7f7f; text-decoration-color: #7f7f7f\">109</span></a>\n",
       "<span style=\"color: #7fbfbf; text-decoration-color: #7fbfbf\">                    </span>         \\data_catalog.py:<span style=\"color: #008080; text-decoration-color: #008080; font-weight: bold\">165</span>: KedroDeprecationWarning: `DataCatalog` has been  <span style=\"color: #7f7f7f; text-decoration-color: #7f7f7f\">               </span>\n",
       "<span style=\"color: #7fbfbf; text-decoration-color: #7fbfbf\">                    </span>         deprecated and will be replaced by `KedroDataCatalog`, in Kedro        <span style=\"color: #7f7f7f; text-decoration-color: #7f7f7f\">               </span>\n",
       "<span style=\"color: #7fbfbf; text-decoration-color: #7fbfbf\">                    </span>         <span style=\"color: #008080; text-decoration-color: #008080; font-weight: bold\">1.0</span>.<span style=\"color: #008080; text-decoration-color: #008080; font-weight: bold\">0.</span>Currently some `KedroDataCatalog` APIs have been retained for    <span style=\"color: #7f7f7f; text-decoration-color: #7f7f7f\">               </span>\n",
       "<span style=\"color: #7fbfbf; text-decoration-color: #7fbfbf\">                    </span>         compatibility with `DataCatalog`, including the `datasets` property    <span style=\"color: #7f7f7f; text-decoration-color: #7f7f7f\">               </span>\n",
       "<span style=\"color: #7fbfbf; text-decoration-color: #7fbfbf\">                    </span>         and the `get_datasets`, `_get_datasets`, `add`,` list`,                <span style=\"color: #7f7f7f; text-decoration-color: #7f7f7f\">               </span>\n",
       "<span style=\"color: #7fbfbf; text-decoration-color: #7fbfbf\">                    </span>         `add_feed_dict`, and `shallow_copy` methods. These will be removed or  <span style=\"color: #7f7f7f; text-decoration-color: #7f7f7f\">               </span>\n",
       "<span style=\"color: #7fbfbf; text-decoration-color: #7fbfbf\">                    </span>         replaced with updated alternatives in Kedro <span style=\"color: #008080; text-decoration-color: #008080; font-weight: bold\">1.0</span>.<span style=\"color: #008080; text-decoration-color: #008080; font-weight: bold\">0</span>. For more details,   <span style=\"color: #7f7f7f; text-decoration-color: #7f7f7f\">               </span>\n",
       "<span style=\"color: #7fbfbf; text-decoration-color: #7fbfbf\">                    </span>         refer to the documentation:                                            <span style=\"color: #7f7f7f; text-decoration-color: #7f7f7f\">               </span>\n",
       "<span style=\"color: #7fbfbf; text-decoration-color: #7fbfbf\">                    </span>         <span style=\"color: #0000ff; text-decoration-color: #0000ff; text-decoration: underline\">https://docs.kedro.org/en/stable/data/index.html#kedrodatacatalog-expe</span> <span style=\"color: #7f7f7f; text-decoration-color: #7f7f7f\">               </span>\n",
       "<span style=\"color: #7fbfbf; text-decoration-color: #7fbfbf\">                    </span>         <span style=\"color: #0000ff; text-decoration-color: #0000ff; text-decoration: underline\">rimental-feature</span>                                                       <span style=\"color: #7f7f7f; text-decoration-color: #7f7f7f\">               </span>\n",
       "<span style=\"color: #7fbfbf; text-decoration-color: #7fbfbf\">                    </span>           <span style=\"color: #800080; text-decoration-color: #800080; font-weight: bold\">warnings.warn</span><span style=\"font-weight: bold\">(</span>                                                       <span style=\"color: #7f7f7f; text-decoration-color: #7f7f7f\">               </span>\n",
       "<span style=\"color: #7fbfbf; text-decoration-color: #7fbfbf\">                    </span>                                                                                <span style=\"color: #7f7f7f; text-decoration-color: #7f7f7f\">               </span>\n",
       "</pre>\n"
      ],
      "text/plain": [
       "\u001b[2;36m[04/05/25 21:31:35]\u001b[0m\u001b[2;36m \u001b[0m\u001b[33mWARNING \u001b[0m c:\\Users\\Cristina\\Documents\\myproject\\.venv\\Lib\\site-packages\\kedro\\io \u001b]8;id=344847;file://C:\\Users\\Cristina\\AppData\\Local\\Programs\\Python\\Python311\\Lib\\warnings.py\u001b\\\u001b[2mwarnings.py\u001b[0m\u001b]8;;\u001b\\\u001b[2m:\u001b[0m\u001b]8;id=104829;file://C:\\Users\\Cristina\\AppData\\Local\\Programs\\Python\\Python311\\Lib\\warnings.py#109\u001b\\\u001b[2m109\u001b[0m\u001b]8;;\u001b\\\n",
       "\u001b[2;36m                    \u001b[0m         \\data_catalog.py:\u001b[1;36m165\u001b[0m: KedroDeprecationWarning: `DataCatalog` has been  \u001b[2m               \u001b[0m\n",
       "\u001b[2;36m                    \u001b[0m         deprecated and will be replaced by `KedroDataCatalog`, in Kedro        \u001b[2m               \u001b[0m\n",
       "\u001b[2;36m                    \u001b[0m         \u001b[1;36m1.0\u001b[0m.\u001b[1;36m0.\u001b[0mCurrently some `KedroDataCatalog` APIs have been retained for    \u001b[2m               \u001b[0m\n",
       "\u001b[2;36m                    \u001b[0m         compatibility with `DataCatalog`, including the `datasets` property    \u001b[2m               \u001b[0m\n",
       "\u001b[2;36m                    \u001b[0m         and the `get_datasets`, `_get_datasets`, `add`,` list`,                \u001b[2m               \u001b[0m\n",
       "\u001b[2;36m                    \u001b[0m         `add_feed_dict`, and `shallow_copy` methods. These will be removed or  \u001b[2m               \u001b[0m\n",
       "\u001b[2;36m                    \u001b[0m         replaced with updated alternatives in Kedro \u001b[1;36m1.0\u001b[0m.\u001b[1;36m0\u001b[0m. For more details,   \u001b[2m               \u001b[0m\n",
       "\u001b[2;36m                    \u001b[0m         refer to the documentation:                                            \u001b[2m               \u001b[0m\n",
       "\u001b[2;36m                    \u001b[0m         \u001b[4;94mhttps://docs.kedro.org/en/stable/data/index.html#kedrodatacatalog-expe\u001b[0m \u001b[2m               \u001b[0m\n",
       "\u001b[2;36m                    \u001b[0m         \u001b[4;94mrimental-feature\u001b[0m                                                       \u001b[2m               \u001b[0m\n",
       "\u001b[2;36m                    \u001b[0m           \u001b[1;35mwarnings.warn\u001b[0m\u001b[1m(\u001b[0m                                                       \u001b[2m               \u001b[0m\n",
       "\u001b[2;36m                    \u001b[0m                                                                                \u001b[2m               \u001b[0m\n"
      ]
     },
     "metadata": {},
     "output_type": "display_data"
    },
    {
     "data": {
      "text/html": [
       "<pre style=\"white-space:pre;overflow-x:auto;line-height:normal;font-family:Menlo,'DejaVu Sans Mono',consolas,'Courier New',monospace\"><span style=\"color: #7fbfbf; text-decoration-color: #7fbfbf\">[04/05/25 21:31:38] </span><span style=\"color: #000080; text-decoration-color: #000080\">INFO    </span> Registering new custom resolver: <span style=\"color: #008000; text-decoration-color: #008000\">'km.random_name'</span>                    <a href=\"file://c:\\Users\\Cristina\\Documents\\myproject\\.venv\\Lib\\site-packages\\kedro_mlflow\\framework\\hooks\\mlflow_hook.py\" target=\"_blank\"><span style=\"color: #7f7f7f; text-decoration-color: #7f7f7f\">mlflow_hook.py</span></a><span style=\"color: #7f7f7f; text-decoration-color: #7f7f7f\">:</span><a href=\"file://c:\\Users\\Cristina\\Documents\\myproject\\.venv\\Lib\\site-packages\\kedro_mlflow\\framework\\hooks\\mlflow_hook.py#65\" target=\"_blank\"><span style=\"color: #7f7f7f; text-decoration-color: #7f7f7f\">65</span></a>\n",
       "</pre>\n"
      ],
      "text/plain": [
       "\u001b[2;36m[04/05/25 21:31:38]\u001b[0m\u001b[2;36m \u001b[0m\u001b[34mINFO    \u001b[0m Registering new custom resolver: \u001b[32m'km.random_name'\u001b[0m                    \u001b]8;id=637180;file://c:\\Users\\Cristina\\Documents\\myproject\\.venv\\Lib\\site-packages\\kedro_mlflow\\framework\\hooks\\mlflow_hook.py\u001b\\\u001b[2mmlflow_hook.py\u001b[0m\u001b]8;;\u001b\\\u001b[2m:\u001b[0m\u001b]8;id=728106;file://c:\\Users\\Cristina\\Documents\\myproject\\.venv\\Lib\\site-packages\\kedro_mlflow\\framework\\hooks\\mlflow_hook.py#65\u001b\\\u001b[2m65\u001b[0m\u001b]8;;\u001b\\\n"
      ]
     },
     "metadata": {},
     "output_type": "display_data"
    },
    {
     "data": {
      "text/html": [
       "<pre style=\"white-space:pre;overflow-x:auto;line-height:normal;font-family:Menlo,'DejaVu Sans Mono',consolas,'Courier New',monospace\"><span style=\"color: #7fbfbf; text-decoration-color: #7fbfbf\">                    </span><span style=\"color: #808000; text-decoration-color: #808000\">WARNING </span> No <span style=\"color: #008000; text-decoration-color: #008000\">'mlflow.yml'</span> config file found in environment. Default            <a href=\"file://c:\\Users\\Cristina\\Documents\\myproject\\.venv\\Lib\\site-packages\\kedro_mlflow\\framework\\hooks\\mlflow_hook.py\" target=\"_blank\"><span style=\"color: #7f7f7f; text-decoration-color: #7f7f7f\">mlflow_hook.py</span></a><span style=\"color: #7f7f7f; text-decoration-color: #7f7f7f\">:</span><a href=\"file://c:\\Users\\Cristina\\Documents\\myproject\\.venv\\Lib\\site-packages\\kedro_mlflow\\framework\\hooks\\mlflow_hook.py#78\" target=\"_blank\"><span style=\"color: #7f7f7f; text-decoration-color: #7f7f7f\">78</span></a>\n",
       "<span style=\"color: #7fbfbf; text-decoration-color: #7fbfbf\">                    </span>         configuration will be used. Use ``kedro mlflow init`` command in CLI <span style=\"color: #7f7f7f; text-decoration-color: #7f7f7f\">                 </span>\n",
       "<span style=\"color: #7fbfbf; text-decoration-color: #7fbfbf\">                    </span>         to customize the configuration.                                      <span style=\"color: #7f7f7f; text-decoration-color: #7f7f7f\">                 </span>\n",
       "</pre>\n"
      ],
      "text/plain": [
       "\u001b[2;36m                   \u001b[0m\u001b[2;36m \u001b[0m\u001b[33mWARNING \u001b[0m No \u001b[32m'mlflow.yml'\u001b[0m config file found in environment. Default            \u001b]8;id=644613;file://c:\\Users\\Cristina\\Documents\\myproject\\.venv\\Lib\\site-packages\\kedro_mlflow\\framework\\hooks\\mlflow_hook.py\u001b\\\u001b[2mmlflow_hook.py\u001b[0m\u001b]8;;\u001b\\\u001b[2m:\u001b[0m\u001b]8;id=893466;file://c:\\Users\\Cristina\\Documents\\myproject\\.venv\\Lib\\site-packages\\kedro_mlflow\\framework\\hooks\\mlflow_hook.py#78\u001b\\\u001b[2m78\u001b[0m\u001b]8;;\u001b\\\n",
       "\u001b[2;36m                    \u001b[0m         configuration will be used. Use ``kedro mlflow init`` command in CLI \u001b[2m                 \u001b[0m\n",
       "\u001b[2;36m                    \u001b[0m         to customize the configuration.                                      \u001b[2m                 \u001b[0m\n"
      ]
     },
     "metadata": {},
     "output_type": "display_data"
    },
    {
     "data": {
      "text/html": [
       "<pre style=\"white-space:pre;overflow-x:auto;line-height:normal;font-family:Menlo,'DejaVu Sans Mono',consolas,'Courier New',monospace\"><span style=\"color: #7fbfbf; text-decoration-color: #7fbfbf\">                    </span><span style=\"color: #000080; text-decoration-color: #000080\">INFO    </span> The <span style=\"color: #008000; text-decoration-color: #008000\">'tracking_uri'</span> key in mlflow.yml is relative            <a href=\"file://c:\\Users\\Cristina\\Documents\\myproject\\.venv\\Lib\\site-packages\\kedro_mlflow\\config\\kedro_mlflow_config.py\" target=\"_blank\"><span style=\"color: #7f7f7f; text-decoration-color: #7f7f7f\">kedro_mlflow_config.py</span></a><span style=\"color: #7f7f7f; text-decoration-color: #7f7f7f\">:</span><a href=\"file://c:\\Users\\Cristina\\Documents\\myproject\\.venv\\Lib\\site-packages\\kedro_mlflow\\config\\kedro_mlflow_config.py#293\" target=\"_blank\"><span style=\"color: #7f7f7f; text-decoration-color: #7f7f7f\">293</span></a>\n",
       "<span style=\"color: #7fbfbf; text-decoration-color: #7fbfbf\">                    </span>         <span style=\"font-weight: bold\">(</span><span style=\"color: #008000; text-decoration-color: #008000\">'server.mlflow_(tracking|registry)_uri = mlruns'</span><span style=\"font-weight: bold\">)</span>. It is   <span style=\"color: #7f7f7f; text-decoration-color: #7f7f7f\">                          </span>\n",
       "<span style=\"color: #7fbfbf; text-decoration-color: #7fbfbf\">                    </span>         converted to a valid uri:                                   <span style=\"color: #7f7f7f; text-decoration-color: #7f7f7f\">                          </span>\n",
       "<span style=\"color: #7fbfbf; text-decoration-color: #7fbfbf\">                    </span>         <span style=\"color: #008000; text-decoration-color: #008000\">'file:///C:/Users/Cristina/Documents/myproject/projetokobe/</span> <span style=\"color: #7f7f7f; text-decoration-color: #7f7f7f\">                          </span>\n",
       "<span style=\"color: #7fbfbf; text-decoration-color: #7fbfbf\">                    </span>         <span style=\"color: #008000; text-decoration-color: #008000\">mlruns'</span>                                                     <span style=\"color: #7f7f7f; text-decoration-color: #7f7f7f\">                          </span>\n",
       "</pre>\n"
      ],
      "text/plain": [
       "\u001b[2;36m                   \u001b[0m\u001b[2;36m \u001b[0m\u001b[34mINFO    \u001b[0m The \u001b[32m'tracking_uri'\u001b[0m key in mlflow.yml is relative            \u001b]8;id=493993;file://c:\\Users\\Cristina\\Documents\\myproject\\.venv\\Lib\\site-packages\\kedro_mlflow\\config\\kedro_mlflow_config.py\u001b\\\u001b[2mkedro_mlflow_config.py\u001b[0m\u001b]8;;\u001b\\\u001b[2m:\u001b[0m\u001b]8;id=33329;file://c:\\Users\\Cristina\\Documents\\myproject\\.venv\\Lib\\site-packages\\kedro_mlflow\\config\\kedro_mlflow_config.py#293\u001b\\\u001b[2m293\u001b[0m\u001b]8;;\u001b\\\n",
       "\u001b[2;36m                    \u001b[0m         \u001b[1m(\u001b[0m\u001b[32m'server.mlflow_\u001b[0m\u001b[32m(\u001b[0m\u001b[32mtracking|registry\u001b[0m\u001b[32m)\u001b[0m\u001b[32m_uri = mlruns'\u001b[0m\u001b[1m)\u001b[0m. It is   \u001b[2m                          \u001b[0m\n",
       "\u001b[2;36m                    \u001b[0m         converted to a valid uri:                                   \u001b[2m                          \u001b[0m\n",
       "\u001b[2;36m                    \u001b[0m         \u001b[32m'file:///C:/Users/Cristina/Documents/myproject/projetokobe/\u001b[0m \u001b[2m                          \u001b[0m\n",
       "\u001b[2;36m                    \u001b[0m         \u001b[32mmlruns'\u001b[0m                                                     \u001b[2m                          \u001b[0m\n"
      ]
     },
     "metadata": {},
     "output_type": "display_data"
    },
    {
     "data": {
      "text/html": [
       "<pre style=\"white-space:pre;overflow-x:auto;line-height:normal;font-family:Menlo,'DejaVu Sans Mono',consolas,'Courier New',monospace\"><span style=\"color: #7fbfbf; text-decoration-color: #7fbfbf\">                    </span><span style=\"color: #808000; text-decoration-color: #808000\">WARNING </span> c:\\Users\\Cristina\\Documents\\myproject\\.venv\\Lib\\site-packages\\kedro\\io <a href=\"file://C:\\Users\\Cristina\\AppData\\Local\\Programs\\Python\\Python311\\Lib\\warnings.py\" target=\"_blank\"><span style=\"color: #7f7f7f; text-decoration-color: #7f7f7f\">warnings.py</span></a><span style=\"color: #7f7f7f; text-decoration-color: #7f7f7f\">:</span><a href=\"file://C:\\Users\\Cristina\\AppData\\Local\\Programs\\Python\\Python311\\Lib\\warnings.py#109\" target=\"_blank\"><span style=\"color: #7f7f7f; text-decoration-color: #7f7f7f\">109</span></a>\n",
       "<span style=\"color: #7fbfbf; text-decoration-color: #7fbfbf\">                    </span>         \\data_catalog.py:<span style=\"color: #008080; text-decoration-color: #008080; font-weight: bold\">165</span>: KedroDeprecationWarning: `DataCatalog` has been  <span style=\"color: #7f7f7f; text-decoration-color: #7f7f7f\">               </span>\n",
       "<span style=\"color: #7fbfbf; text-decoration-color: #7fbfbf\">                    </span>         deprecated and will be replaced by `KedroDataCatalog`, in Kedro        <span style=\"color: #7f7f7f; text-decoration-color: #7f7f7f\">               </span>\n",
       "<span style=\"color: #7fbfbf; text-decoration-color: #7fbfbf\">                    </span>         <span style=\"color: #008080; text-decoration-color: #008080; font-weight: bold\">1.0</span>.<span style=\"color: #008080; text-decoration-color: #008080; font-weight: bold\">0.</span>Currently some `KedroDataCatalog` APIs have been retained for    <span style=\"color: #7f7f7f; text-decoration-color: #7f7f7f\">               </span>\n",
       "<span style=\"color: #7fbfbf; text-decoration-color: #7fbfbf\">                    </span>         compatibility with `DataCatalog`, including the `datasets` property    <span style=\"color: #7f7f7f; text-decoration-color: #7f7f7f\">               </span>\n",
       "<span style=\"color: #7fbfbf; text-decoration-color: #7fbfbf\">                    </span>         and the `get_datasets`, `_get_datasets`, `add`,` list`,                <span style=\"color: #7f7f7f; text-decoration-color: #7f7f7f\">               </span>\n",
       "<span style=\"color: #7fbfbf; text-decoration-color: #7fbfbf\">                    </span>         `add_feed_dict`, and `shallow_copy` methods. These will be removed or  <span style=\"color: #7f7f7f; text-decoration-color: #7f7f7f\">               </span>\n",
       "<span style=\"color: #7fbfbf; text-decoration-color: #7fbfbf\">                    </span>         replaced with updated alternatives in Kedro <span style=\"color: #008080; text-decoration-color: #008080; font-weight: bold\">1.0</span>.<span style=\"color: #008080; text-decoration-color: #008080; font-weight: bold\">0</span>. For more details,   <span style=\"color: #7f7f7f; text-decoration-color: #7f7f7f\">               </span>\n",
       "<span style=\"color: #7fbfbf; text-decoration-color: #7fbfbf\">                    </span>         refer to the documentation:                                            <span style=\"color: #7f7f7f; text-decoration-color: #7f7f7f\">               </span>\n",
       "<span style=\"color: #7fbfbf; text-decoration-color: #7fbfbf\">                    </span>         <span style=\"color: #0000ff; text-decoration-color: #0000ff; text-decoration: underline\">https://docs.kedro.org/en/stable/data/index.html#kedrodatacatalog-expe</span> <span style=\"color: #7f7f7f; text-decoration-color: #7f7f7f\">               </span>\n",
       "<span style=\"color: #7fbfbf; text-decoration-color: #7fbfbf\">                    </span>         <span style=\"color: #0000ff; text-decoration-color: #0000ff; text-decoration: underline\">rimental-feature</span>                                                       <span style=\"color: #7f7f7f; text-decoration-color: #7f7f7f\">               </span>\n",
       "<span style=\"color: #7fbfbf; text-decoration-color: #7fbfbf\">                    </span>           <span style=\"color: #800080; text-decoration-color: #800080; font-weight: bold\">warnings.warn</span><span style=\"font-weight: bold\">(</span>                                                       <span style=\"color: #7f7f7f; text-decoration-color: #7f7f7f\">               </span>\n",
       "<span style=\"color: #7fbfbf; text-decoration-color: #7fbfbf\">                    </span>                                                                                <span style=\"color: #7f7f7f; text-decoration-color: #7f7f7f\">               </span>\n",
       "</pre>\n"
      ],
      "text/plain": [
       "\u001b[2;36m                   \u001b[0m\u001b[2;36m \u001b[0m\u001b[33mWARNING \u001b[0m c:\\Users\\Cristina\\Documents\\myproject\\.venv\\Lib\\site-packages\\kedro\\io \u001b]8;id=353223;file://C:\\Users\\Cristina\\AppData\\Local\\Programs\\Python\\Python311\\Lib\\warnings.py\u001b\\\u001b[2mwarnings.py\u001b[0m\u001b]8;;\u001b\\\u001b[2m:\u001b[0m\u001b]8;id=95148;file://C:\\Users\\Cristina\\AppData\\Local\\Programs\\Python\\Python311\\Lib\\warnings.py#109\u001b\\\u001b[2m109\u001b[0m\u001b]8;;\u001b\\\n",
       "\u001b[2;36m                    \u001b[0m         \\data_catalog.py:\u001b[1;36m165\u001b[0m: KedroDeprecationWarning: `DataCatalog` has been  \u001b[2m               \u001b[0m\n",
       "\u001b[2;36m                    \u001b[0m         deprecated and will be replaced by `KedroDataCatalog`, in Kedro        \u001b[2m               \u001b[0m\n",
       "\u001b[2;36m                    \u001b[0m         \u001b[1;36m1.0\u001b[0m.\u001b[1;36m0.\u001b[0mCurrently some `KedroDataCatalog` APIs have been retained for    \u001b[2m               \u001b[0m\n",
       "\u001b[2;36m                    \u001b[0m         compatibility with `DataCatalog`, including the `datasets` property    \u001b[2m               \u001b[0m\n",
       "\u001b[2;36m                    \u001b[0m         and the `get_datasets`, `_get_datasets`, `add`,` list`,                \u001b[2m               \u001b[0m\n",
       "\u001b[2;36m                    \u001b[0m         `add_feed_dict`, and `shallow_copy` methods. These will be removed or  \u001b[2m               \u001b[0m\n",
       "\u001b[2;36m                    \u001b[0m         replaced with updated alternatives in Kedro \u001b[1;36m1.0\u001b[0m.\u001b[1;36m0\u001b[0m. For more details,   \u001b[2m               \u001b[0m\n",
       "\u001b[2;36m                    \u001b[0m         refer to the documentation:                                            \u001b[2m               \u001b[0m\n",
       "\u001b[2;36m                    \u001b[0m         \u001b[4;94mhttps://docs.kedro.org/en/stable/data/index.html#kedrodatacatalog-expe\u001b[0m \u001b[2m               \u001b[0m\n",
       "\u001b[2;36m                    \u001b[0m         \u001b[4;94mrimental-feature\u001b[0m                                                       \u001b[2m               \u001b[0m\n",
       "\u001b[2;36m                    \u001b[0m           \u001b[1;35mwarnings.warn\u001b[0m\u001b[1m(\u001b[0m                                                       \u001b[2m               \u001b[0m\n",
       "\u001b[2;36m                    \u001b[0m                                                                                \u001b[2m               \u001b[0m\n"
      ]
     },
     "metadata": {},
     "output_type": "display_data"
    },
    {
     "data": {
      "text/html": [
       "<pre style=\"white-space:pre;overflow-x:auto;line-height:normal;font-family:Menlo,'DejaVu Sans Mono',consolas,'Courier New',monospace\"><span style=\"color: #7fbfbf; text-decoration-color: #7fbfbf\">                    </span><span style=\"color: #000080; text-decoration-color: #000080\">INFO    </span> Kedro project projetoKobe                                              <a href=\"file://c:\\Users\\Cristina\\Documents\\myproject\\.venv\\Lib\\site-packages\\kedro\\ipython\\__init__.py\" target=\"_blank\"><span style=\"color: #7f7f7f; text-decoration-color: #7f7f7f\">__init__.py</span></a><span style=\"color: #7f7f7f; text-decoration-color: #7f7f7f\">:</span><a href=\"file://c:\\Users\\Cristina\\Documents\\myproject\\.venv\\Lib\\site-packages\\kedro\\ipython\\__init__.py#146\" target=\"_blank\"><span style=\"color: #7f7f7f; text-decoration-color: #7f7f7f\">146</span></a>\n",
       "</pre>\n"
      ],
      "text/plain": [
       "\u001b[2;36m                   \u001b[0m\u001b[2;36m \u001b[0m\u001b[34mINFO    \u001b[0m Kedro project projetoKobe                                              \u001b]8;id=368108;file://c:\\Users\\Cristina\\Documents\\myproject\\.venv\\Lib\\site-packages\\kedro\\ipython\\__init__.py\u001b\\\u001b[2m__init__.py\u001b[0m\u001b]8;;\u001b\\\u001b[2m:\u001b[0m\u001b]8;id=181826;file://c:\\Users\\Cristina\\Documents\\myproject\\.venv\\Lib\\site-packages\\kedro\\ipython\\__init__.py#146\u001b\\\u001b[2m146\u001b[0m\u001b]8;;\u001b\\\n"
      ]
     },
     "metadata": {},
     "output_type": "display_data"
    },
    {
     "data": {
      "text/html": [
       "<pre style=\"white-space:pre;overflow-x:auto;line-height:normal;font-family:Menlo,'DejaVu Sans Mono',consolas,'Courier New',monospace\"><span style=\"color: #7fbfbf; text-decoration-color: #7fbfbf\">                    </span><span style=\"color: #000080; text-decoration-color: #000080\">INFO    </span> Defined global variable <span style=\"color: #008000; text-decoration-color: #008000\">'context'</span>, <span style=\"color: #008000; text-decoration-color: #008000\">'session'</span>, <span style=\"color: #008000; text-decoration-color: #008000\">'catalog'</span> and            <a href=\"file://c:\\Users\\Cristina\\Documents\\myproject\\.venv\\Lib\\site-packages\\kedro\\ipython\\__init__.py\" target=\"_blank\"><span style=\"color: #7f7f7f; text-decoration-color: #7f7f7f\">__init__.py</span></a><span style=\"color: #7f7f7f; text-decoration-color: #7f7f7f\">:</span><a href=\"file://c:\\Users\\Cristina\\Documents\\myproject\\.venv\\Lib\\site-packages\\kedro\\ipython\\__init__.py#147\" target=\"_blank\"><span style=\"color: #7f7f7f; text-decoration-color: #7f7f7f\">147</span></a>\n",
       "<span style=\"color: #7fbfbf; text-decoration-color: #7fbfbf\">                    </span>         <span style=\"color: #008000; text-decoration-color: #008000\">'pipelines'</span>                                                            <span style=\"color: #7f7f7f; text-decoration-color: #7f7f7f\">               </span>\n",
       "</pre>\n"
      ],
      "text/plain": [
       "\u001b[2;36m                   \u001b[0m\u001b[2;36m \u001b[0m\u001b[34mINFO    \u001b[0m Defined global variable \u001b[32m'context'\u001b[0m, \u001b[32m'session'\u001b[0m, \u001b[32m'catalog'\u001b[0m and            \u001b]8;id=902306;file://c:\\Users\\Cristina\\Documents\\myproject\\.venv\\Lib\\site-packages\\kedro\\ipython\\__init__.py\u001b\\\u001b[2m__init__.py\u001b[0m\u001b]8;;\u001b\\\u001b[2m:\u001b[0m\u001b]8;id=417686;file://c:\\Users\\Cristina\\Documents\\myproject\\.venv\\Lib\\site-packages\\kedro\\ipython\\__init__.py#147\u001b\\\u001b[2m147\u001b[0m\u001b]8;;\u001b\\\n",
       "\u001b[2;36m                    \u001b[0m         \u001b[32m'pipelines'\u001b[0m                                                            \u001b[2m               \u001b[0m\n"
      ]
     },
     "metadata": {},
     "output_type": "display_data"
    },
    {
     "name": "stdout",
     "output_type": "stream",
     "text": [
      "Treino: <bound method DataFrame.info of            lat       lon  minutes_remaining  period  playoffs  shot_distance  \\\n",
      "0      34.0343 -118.1288                  1       2         0             14   \n",
      "1      33.9723 -118.0808                  0       3         0             20   \n",
      "2      33.8713 -118.1728                 11       3         0             19   \n",
      "3      34.0443 -118.2698                 11       2         0              0   \n",
      "4      33.8543 -118.2698                 11       3         0             19   \n",
      "...        ...       ...                ...     ...       ...            ...   \n",
      "16223  34.0523 -118.0718                  9       3         1             19   \n",
      "16224  34.0443 -118.2698                  0       1         0              0   \n",
      "16225  34.0523 -118.0838                  2       3         0             18   \n",
      "16226  34.0403 -118.3618                  3       3         0              9   \n",
      "16227  33.8573 -118.3958                  6       1         1             22   \n",
      "\n",
      "       shot_made_flag  \n",
      "0                 0.0  \n",
      "1                 0.0  \n",
      "2                 0.0  \n",
      "3                 1.0  \n",
      "4                 0.0  \n",
      "...               ...  \n",
      "16223             0.0  \n",
      "16224             1.0  \n",
      "16225             1.0  \n",
      "16226             1.0  \n",
      "16227             1.0  \n",
      "\n",
      "[16228 rows x 7 columns]>\n",
      "Teste:  <bound method DataFrame.info of           lat       lon  minutes_remaining  period  playoffs  shot_distance  \\\n",
      "0     33.8883 -118.3828                 11       3         1             19   \n",
      "1     34.0213 -118.1598                  2       3         0             11   \n",
      "2     33.9833 -118.1208                 10       2         0             16   \n",
      "3     34.0443 -118.2698                  0       4         0              0   \n",
      "4     34.0443 -118.2698                  0       1         0              0   \n",
      "...       ...       ...                ...     ...       ...            ...   \n",
      "4052  34.0313 -118.2988                 11       2         0              3   \n",
      "4053  34.0423 -118.1848                  6       1         0              8   \n",
      "4054  34.0443 -118.2698                  3       4         0              0   \n",
      "4055  33.9343 -118.3778                  5       1         0             15   \n",
      "4056  33.8503 -118.2818                  0       1         0             19   \n",
      "\n",
      "      shot_made_flag  \n",
      "0                0.0  \n",
      "1                0.0  \n",
      "2                0.0  \n",
      "3                1.0  \n",
      "4                0.0  \n",
      "...              ...  \n",
      "4052             0.0  \n",
      "4053             0.0  \n",
      "4054             1.0  \n",
      "4055             1.0  \n",
      "4056             0.0  \n",
      "\n",
      "[4057 rows x 7 columns]>\n"
     ]
    }
   ],
   "source": [
    "%load_ext kedro.ipython\n",
    "import pandas as pd\n",
    "from pycaret.classification import *\n",
    "from sklearn.metrics import log_loss, f1_score\n",
    "\n",
    "df_train = pd.read_parquet(\"../data/processed/base_train.parquet\")\n",
    "df_test = pd.read_parquet(\"../data/processed/base_test.parquet\")\n",
    "\n",
    "print(\"Treino:\", df_train.info)\n",
    "print(\"Teste: \", df_test.info)\n"
   ]
  },
  {
   "cell_type": "code",
   "execution_count": 2,
   "id": "e37f5baa",
   "metadata": {},
   "outputs": [
    {
     "name": "stdout",
     "output_type": "stream",
     "text": [
      "🔧 Treinando modelo: Regressão Logística\n"
     ]
    },
    {
     "name": "stderr",
     "output_type": "stream",
     "text": [
      "                                                         \r"
     ]
    },
    {
     "name": "stdout",
     "output_type": "stream",
     "text": [
      "      Accuracy     AUC  Recall   Prec.      F1   Kappa     MCC\n",
      "Fold                                                          \n",
      "0       0.0000  0.0000  0.0000  0.0000  0.0000  0.0000  0.0000\n",
      "1       0.5889  0.6123  0.5074  0.5789  0.5408  0.1716  0.1728\n",
      "2       0.0000  0.0000  0.0000  0.0000  0.0000  0.0000  0.0000\n",
      "3       0.5783  0.5881  0.4613  0.5721  0.5107  0.1477  0.1503\n",
      "4       0.0000  0.0000  0.0000  0.0000  0.0000  0.0000  0.0000\n",
      "5       0.5546  0.5631  0.4613  0.5388  0.4970  0.1016  0.1026\n",
      "6       0.0000  0.0000  0.0000  0.0000  0.0000  0.0000  0.0000\n",
      "7       0.5590  0.5945  0.4641  0.5455  0.5015  0.1107  0.1118\n",
      "8       0.5722  0.6011  0.4807  0.5613  0.5179  0.1375  0.1388\n",
      "9       0.0000  0.0000  0.0000  0.0000  0.0000  0.0000  0.0000\n",
      "Mean    0.2853  0.2959  0.2375  0.2797  0.2568  0.0669  0.0676\n",
      "Std     0.2854  0.2961  0.2378  0.2799  0.2570  0.0693  0.0700\n"
     ]
    },
    {
     "name": "stderr",
     "output_type": "stream",
     "text": [
      "Processing:   0%|          | 0/7 [00:00<?, ?it/s]"
     ]
    },
    {
     "name": "stdout",
     "output_type": "stream",
     "text": [
      "Fitting 10 folds for each of 10 candidates, totalling 100 fits\n"
     ]
    },
    {
     "name": "stderr",
     "output_type": "stream",
     "text": [
      "                                                         \r"
     ]
    },
    {
     "name": "stdout",
     "output_type": "stream",
     "text": [
      "Original model was better than the tuned model, hence it will be returned. NOTE: The display metrics are for the tuned model (not the original one).\n",
      "      Accuracy     AUC  Recall   Prec.      F1   Kappa     MCC\n",
      "Fold                                                          \n",
      "0       0.5810  0.6049  0.4557  0.5771  0.5093  0.1524  0.1556\n",
      "1       0.5880  0.6126  0.5074  0.5777  0.5403  0.1699  0.1711\n",
      "2       0.0000  0.0000  0.0000  0.0000  0.0000  0.0000  0.0000\n",
      "3       0.5766  0.5887  0.4576  0.5701  0.5077  0.1440  0.1467\n",
      "4       0.0000  0.0000  0.0000  0.0000  0.0000  0.0000  0.0000\n",
      "5       0.5519  0.5641  0.4631  0.5352  0.4965  0.0967  0.0975\n",
      "6       0.5889  0.6169  0.5092  0.5786  0.5417  0.1717  0.1729\n",
      "7       0.5555  0.5936  0.4604  0.5411  0.4975  0.1036  0.1046\n",
      "8       0.0000  0.0000  0.0000  0.0000  0.0000  0.0000  0.0000\n",
      "9       0.0000  0.0000  0.0000  0.0000  0.0000  0.0000  0.0000\n",
      "Mean    0.3442  0.3581  0.2853  0.3380  0.3093  0.0838  0.0848\n",
      "Std     0.2813  0.2927  0.2337  0.2763  0.2530  0.0722  0.0731\n",
      "🔧 Treinando modelo: Árvore de Decisão\n"
     ]
    },
    {
     "name": "stderr",
     "output_type": "stream",
     "text": [
      "                                                         \r"
     ]
    },
    {
     "name": "stdout",
     "output_type": "stream",
     "text": [
      "      Accuracy     AUC  Recall   Prec.      F1   Kappa     MCC\n",
      "Fold                                                          \n",
      "0       0.5396  0.5188  0.6015  0.5150  0.5549  0.0840  0.0851\n",
      "1       0.5528  0.5297  0.5886  0.5281  0.5567  0.1082  0.1089\n",
      "2       0.0000  0.0000  0.0000  0.0000  0.0000  0.0000  0.0000\n",
      "3       0.5246  0.5092  0.5701  0.5016  0.5337  0.0530  0.0534\n",
      "4       0.0000  0.0000  0.0000  0.0000  0.0000  0.0000  0.0000\n",
      "5       0.5158  0.4971  0.5720  0.4936  0.5299  0.0363  0.0368\n",
      "6       0.5467  0.5203  0.5996  0.5217  0.5579  0.0973  0.0983\n",
      "7       0.5370  0.5301  0.5838  0.5138  0.5466  0.0774  0.0781\n",
      "8       0.5299  0.5039  0.5948  0.5071  0.5475  0.0649  0.0658\n",
      "9       0.0000  0.0000  0.0000  0.0000  0.0000  0.0000  0.0000\n",
      "Mean    0.3746  0.3609  0.4110  0.3581  0.3827  0.0521  0.0526\n",
      "Std     0.2455  0.2365  0.2693  0.2346  0.2507  0.0393  0.0396\n"
     ]
    },
    {
     "name": "stderr",
     "output_type": "stream",
     "text": [
      "Processing:   0%|          | 0/7 [00:00<?, ?it/s]"
     ]
    },
    {
     "name": "stdout",
     "output_type": "stream",
     "text": [
      "Fitting 10 folds for each of 10 candidates, totalling 100 fits\n"
     ]
    },
    {
     "name": "stderr",
     "output_type": "stream",
     "text": [
      "                                                         \r"
     ]
    },
    {
     "name": "stdout",
     "output_type": "stream",
     "text": [
      "Original model was better than the tuned model, hence it will be returned. NOTE: The display metrics are for the tuned model (not the original one).\n",
      "      Accuracy     AUC  Recall   Prec.      F1   Kappa     MCC\n",
      "Fold                                                          \n",
      "0       0.0000  0.0000  0.0000  0.0000  0.0000  0.0000  0.0000\n",
      "1       0.4894  0.5023  0.7841  0.4786  0.5944  0.0045  0.0056\n",
      "2       0.0000  0.0000  0.0000  0.0000  0.0000  0.0000  0.0000\n",
      "3       0.5185  0.5028  0.1605  0.4860  0.2413  0.0058  0.0077\n",
      "4       0.0000  0.0000  0.0000  0.0000  0.0000  0.0000  0.0000\n",
      "5       0.5018  0.4854  0.1273  0.4259  0.1960 -0.0302 -0.0418\n",
      "6       0.5167  0.5014  0.1661  0.4813  0.2469  0.0028  0.0037\n",
      "7       0.5088  0.4929  0.1326  0.4528  0.2051 -0.0145 -0.0203\n",
      "8       0.5123  0.4963  0.1326  0.4645  0.2063 -0.0076 -0.0107\n",
      "9       0.0000  0.0000  0.0000  0.0000  0.0000  0.0000  0.0000\n",
      "Mean    0.3048  0.2981  0.1503  0.2789  0.1690 -0.0039 -0.0056\n",
      "Std     0.2489  0.2435  0.2222  0.2283  0.1761  0.0104  0.0144\n",
      "📊 Logística - F1 Score: 0.5115 | Log Loss: 0.6765\n",
      "📊 Árvore    - F1 Score: 0.5441 | Log Loss: 14.0597\n",
      "✅ Modelo vencedor: Arvore\n",
      "🏁 Fim do processo. Você pode agora aplicar esse modelo na produção.\n"
     ]
    }
   ],
   "source": [
    "import pandas as pd\n",
    "import mlflow\n",
    "import mlflow.sklearn\n",
    "from pycaret.classification import setup, create_model, tune_model, predict_model, finalize_model, get_config\n",
    "from sklearn.metrics import log_loss, f1_score\n",
    "from imblearn.over_sampling import SMOTE\n",
    "\n",
    "# 1. Carregar os dados\n",
    "df_train = pd.read_parquet(\"../data/processed/base_train.parquet\")\n",
    "df_test  = pd.read_parquet(\"../data/processed/base_test.parquet\")\n",
    "\n",
    "X_test = df_test.drop(\"shot_made_flag\", axis=1)\n",
    "y_test = df_test[\"shot_made_flag\"]\n",
    "\n",
    "# 2. Iniciar run do MLflow\n",
    "with mlflow.start_run(run_name=\"MelhorModeloComPrints\"):\n",
    "\n",
    "    setup(\n",
    "    data=df_train,\n",
    "    target=\"shot_made_flag\",\n",
    "    session_id=42,\n",
    "    normalize=True,                     # Normaliza os dados\n",
    "    transformation=True,               # Aplica transformações (log, raiz etc)\n",
    "    fix_imbalance=True,                # Ativa o balanceamento\n",
    "    fix_imbalance_method=SMOTE(),      # SMOTE personalizado\n",
    "    remove_outliers=True,              # Remove outliers que atrapalham\n",
    "    remove_multicollinearity=True,     # Remove variáveis colineares\n",
    "    multicollinearity_threshold=0.95,  # Threshold de colinearidade\n",
    "    fold=10,                           # Cross-validation com 10 folds\n",
    "    fold_shuffle=True,                 # Shuffle nos folds\n",
    "    html=False,\n",
    "    verbose=False\n",
    ")\n",
    "\n",
    "    # 4. Treinar modelos\n",
    "    print(\"🔧 Treinando modelo: Regressão Logística\")\n",
    "    lr_model = tune_model(create_model(\"lr\"), optimize=\"F1\")\n",
    "\n",
    "    print(\"🔧 Treinando modelo: Árvore de Decisão\")\n",
    "    dt_model = tune_model(create_model(\"dt\"), optimize=\"F1\")\n",
    "\n",
    "    # 5. Transformar X_test\n",
    "    pipeline = get_config(\"pipeline\")\n",
    "    X_test_transformed = pipeline.transform(X_test)\n",
    "\n",
    "    # 6. Avaliação Logística\n",
    "    y_pred_lr = lr_model.predict(X_test_transformed)\n",
    "    y_proba_lr = lr_model.predict_proba(X_test_transformed)\n",
    "    f1_lr = f1_score(y_test, y_pred_lr)\n",
    "    loss_lr = log_loss(y_test, y_proba_lr)\n",
    "\n",
    "    # 7. Avaliação Árvore\n",
    "    y_pred_dt = dt_model.predict(X_test_transformed)\n",
    "    y_proba_dt = dt_model.predict_proba(X_test_transformed)\n",
    "    f1_dt = f1_score(y_test, y_pred_dt)\n",
    "    loss_dt = log_loss(y_test, y_proba_dt)\n",
    "\n",
    "    # 8. Prints e comparações\n",
    "    print(f\"📊 Logística - F1 Score: {f1_lr:.4f} | Log Loss: {loss_lr:.4f}\")\n",
    "    print(f\"📊 Árvore    - F1 Score: {f1_dt:.4f} | Log Loss: {loss_dt:.4f}\")\n",
    "\n",
    "    # 9. Log de métricas\n",
    "    mlflow.log_metrics({\n",
    "        \"f1_score_logistica\": f1_lr,\n",
    "        \"log_loss_logistica\": loss_lr,\n",
    "        \"f1_score_arvore\": f1_dt,\n",
    "        \"log_loss_arvore\": loss_dt\n",
    "    })\n",
    "\n",
    "    # 10. Escolher modelo vencedor\n",
    "    modelo_vencedor = \"Logistica\" if f1_lr > f1_dt else \"Arvore\"\n",
    "    modelo_final = lr_model if modelo_vencedor == \"Logistica\" else dt_model\n",
    "\n",
    "    mlflow.log_param(\"modelo_vencedor\", modelo_vencedor)\n",
    "    mlflow.sklearn.log_model(modelo_final, artifact_path=\"modelo_vencedor\")\n",
    "\n",
    "    print(f\"✅ Modelo vencedor: {modelo_vencedor}\")\n",
    "\n",
    "# 11. Pronto para uso\n",
    "print(\"🏁 Fim do processo. Você pode agora aplicar esse modelo na produção.\")\n"
   ]
  },
  {
   "cell_type": "code",
   "execution_count": null,
   "id": "6daac5b1",
   "metadata": {},
   "outputs": [],
   "source": []
  }
 ],
 "metadata": {
  "kernelspec": {
   "display_name": ".venv",
   "language": "python",
   "name": "python3"
  },
  "language_info": {
   "codemirror_mode": {
    "name": "ipython",
    "version": 3
   },
   "file_extension": ".py",
   "mimetype": "text/x-python",
   "name": "python",
   "nbconvert_exporter": "python",
   "pygments_lexer": "ipython3",
   "version": "3.11.0"
  }
 },
 "nbformat": 4,
 "nbformat_minor": 5
}
